{
 "cells": [
  {
   "cell_type": "code",
   "execution_count": 1,
   "id": "10d72e83-cc3e-47fe-9dc4-04f4105edd04",
   "metadata": {},
   "outputs": [],
   "source": [
    "## DSA_PPT_QUES_2"
   ]
  },
  {
   "cell_type": "code",
   "execution_count": 2,
   "id": "93b460ba-37cb-4ce7-a5fc-82cbcd925dd0",
   "metadata": {},
   "outputs": [],
   "source": [
    "# QUES--"
   ]
  },
  {
   "cell_type": "code",
   "execution_count": 4,
   "id": "ee75c3f4-2a82-4ade-8536-698d24d9c85f",
   "metadata": {},
   "outputs": [
    {
     "name": "stdout",
     "output_type": "stream",
     "text": [
      "0\n",
      "2\n",
      "-1\n"
     ]
    }
   ],
   "source": [
    "#SOL--\n",
    "def firstUniqChar(s):\n",
    "    char_count = {}\n",
    "\n",
    "    for char in s:\n",
    "        if char in char_count:\n",
    "            char_count[char] += 1\n",
    "        else:\n",
    "            char_count[char] = 1\n",
    "    for i in range(len(s)):\n",
    "        if char_count[s[i]] == 1:\n",
    "            return i\n",
    "\n",
    "    return -1\n",
    "s = \"leetcode\"\n",
    "print(firstUniqChar(s))\n",
    "s = \"loveleetcode\"\n",
    "print(firstUniqChar(s))\n",
    "s = \"aabb\"\n",
    "print(firstUniqChar(s))"
   ]
  },
  {
   "cell_type": "code",
   "execution_count": null,
   "id": "2df0188f-1aa6-40b6-8db6-e68b839a807e",
   "metadata": {},
   "outputs": [],
   "source": []
  }
 ],
 "metadata": {
  "kernelspec": {
   "display_name": "Python 3 (ipykernel)",
   "language": "python",
   "name": "python3"
  },
  "language_info": {
   "codemirror_mode": {
    "name": "ipython",
    "version": 3
   },
   "file_extension": ".py",
   "mimetype": "text/x-python",
   "name": "python",
   "nbconvert_exporter": "python",
   "pygments_lexer": "ipython3",
   "version": "3.10.8"
  }
 },
 "nbformat": 4,
 "nbformat_minor": 5
}
